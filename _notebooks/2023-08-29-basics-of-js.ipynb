{
 "cells": [
  {
   "cell_type": "raw",
   "metadata": {},
   "source": [
    "{% include nav_basics.html %}\n"
   ]
  },
  {
   "cell_type": "code",
   "execution_count": null,
   "metadata": {
    "vscode": {
     "languageId": "javascript"
    }
   },
   "outputs": [],
   "source": [
    "%%js\n",
    "\n",
    "// Randomly Select value for a & b between 1-10\n",
    "a = Math.floor(Math.random() * 11);\n",
    "b = Math.floor(Math.random() * 11);\n",
    "\n",
    "// Define Coins Variable\n",
    "let mysteryBox = \"empty\"\n",
    "\n",
    "// If A equals B, give User 100 coins\n",
    "if (a === b) {\n",
    "    mysteryBox = \"Invincibility\"\n",
    "} \n",
    "// If A is greater than B, give User 25 coins\n",
    "else if (a > b) {\n",
    "    mysteryBox = \"1.5x Jump Power\"\n",
    "} \n",
    "\n",
    "//If B is greater than A, give User 50 coins\n",
    "else if (b > a) {\n",
    "    mysteryBox = \"x2 Speed\"\n",
    "}\n",
    "\n",
    "// Print Current Amount of Coins\n",
    "console.log(\"You have \" + mysteryBox + \" for 30 seconds!\")"
   ]
  }
 ],
 "metadata": {
  "kernelspec": {
   "display_name": "Python 3",
   "language": "python",
   "name": "python3"
  },
  "language_info": {
   "codemirror_mode": {
    "name": "ipython",
    "version": 3
   },
   "file_extension": ".py",
   "mimetype": "text/x-python",
   "name": "python",
   "nbconvert_exporter": "python",
   "pygments_lexer": "ipython3",
   "version": "3.10.12"
  },
  "orig_nbformat": 4
 },
 "nbformat": 4,
 "nbformat_minor": 2
}

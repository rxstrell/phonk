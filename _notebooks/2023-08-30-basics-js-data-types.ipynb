{
 "cells": [
  {
   "cell_type": "markdown",
   "metadata": {},
   "source": [
    "---\n",
    "title: Javascript Data Types/Lists\n",
    "hide: True\n",
    "description: A Tech Talk on javascript data types and how to use with lists\n",
    "type: ccc\n",
    "permalink: /basics/datatypes\n",
    "author: Rohan Juneja\n",
    "---"
   ]
  },
  {
   "cell_type": "raw",
   "metadata": {},
   "source": [
    "{% include nav_basics.html %}\n"
   ]
  },
  {
   "cell_type": "markdown",
   "metadata": {},
   "source": [
    "# Scenario\n",
    "This object represents me and the information that goes with such. With this object, I perform a lot of different to show you the power of Data Types!"
   ]
  },
  {
   "cell_type": "code",
   "execution_count": null,
   "metadata": {
    "vscode": {
     "languageId": "javascript"
    }
   },
   "outputs": [],
   "source": [
    "%%js\n",
    "// Me Object\n",
    "let me = {\n",
    "    name: \"Xavier\",\n",
    "    age: 14,\n",
    "    birthYear: 2009,\n",
    "    classes: [\"ENS\", \"Math\", \"Spanish\", \"CSSE\", \"Science\"],\n",
    "    interests: [\"Cybersecurity\", \"Coding\", \"Sports\", \"Science\"],\n",
    "    group: [\"Justin\", \"Daniel\", \"Timur\"],\n",
    "    schools: [\"MRES\", \"OVMS\", \"DNHS\"]\n",
    "    \n",
    "}\n",
    "//Prints Object\n",
    "console.log(me)\n",
    "\n",
    "// Adds Psychology to Interests Array\n",
    "me.interests.push(\"Psychology\");\n",
    "\n",
    "//Concanetating Classes\n",
    "console.log(me.classes[1] + \" and\" + \" \" + me.classes[3] + \" are my favorite classes!\");\n",
    "\n",
    "//Concanetating Schools\n",
    "console.log(\"First I went to \" + me.schools[0] + \". Then I went to \" + me.schools[1] + \". And now I'm in \" + me.schools[2])\n",
    "\n",
    "\n",
    "// Usage of Mathematical Operations //\n",
    "\n",
    "// Add age + birth year to get current year\n",
    "currentYear = me.age + me.birthYear\n",
    "\n",
    "// Print current year\n",
    "console.log(currentYear)\n",
    "\n",
    "// Prints what type of value specified variable is\n",
    "console.log(typeof me.name) // Prints String\n",
    "console.log(typeof me.age) //Prints Number\n",
    "console.log(typeof me.classes) //Prints Object"
   ]
  }
 ],
 "metadata": {
  "kernelspec": {
   "display_name": "Python 3 (ipykernel)",
   "language": "python",
   "name": "python3"
  },
  "language_info": {
   "codemirror_mode": {
    "name": "ipython",
    "version": 3
   },
   "file_extension": ".py",
   "mimetype": "text/x-python",
   "name": "python",
   "nbconvert_exporter": "python",
   "pygments_lexer": "ipython3",
   "version": "3.10.12"
  }
 },
 "nbformat": 4,
 "nbformat_minor": 4
}

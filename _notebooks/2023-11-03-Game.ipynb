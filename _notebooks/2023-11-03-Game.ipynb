{
 "cells": [
  {
   "cell_type": "markdown",
   "metadata": {},
   "source": [
    "---\n",
    "comments: True\n",
    "layout: post\n",
    "title: Individual Review  \n",
    "description: Game creation process\n",
    "type: hacks\n",
    "courses: {'csse': {'week': 12}}\n",
    "categories: ['C4.1']\n",
    "---"
   ]
  },
  {
   "cell_type": "markdown",
   "metadata": {},
   "source": [
    "### Backround <br>\n",
    "\n",
    "In the beginning, I started working on the backround and scroll backround. \n"
   ]
  },
  {
   "cell_type": "markdown",
   "metadata": {},
   "source": [
    "This snippet contains styles for different game elements. .game-container sets the position, width, and height of the game container. \n",
    "#canvas defines canvas styles, including border and filter:"
   ]
  },
  {
   "cell_type": "code",
   "execution_count": null,
   "metadata": {
    "vscode": {
     "languageId": "javascript"
    }
   },
   "outputs": [],
   "source": [
    "    .game-container {\n",
    "        position: relative;\n",
    "        left: -520px;\n",
    "        width: 1920px;\n",
    "        height: 552px;\n",
    "    }\n",
    "    #canvas {\n",
    "        margin: 0;\n",
    "        border: 4px solid black;\n",
    "        filter: invert(0%);\n",
    "    }\n",
    "     .background {\n",
    "        position: absolute;\n",
    "        top: 0;\n",
    "        left: 0;\n",
    "        width: 100%;\n",
    "        height: 100%;\n",
    "        background-image: url(\"{{site.baseurl}}/images/Game/background.jpg\"); \n",
    "        background-size: 1380px 552px; \n",
    "        animation: slide 10s linear infinite; \n",
    "    } "
   ]
  },
  {
   "cell_type": "markdown",
   "metadata": {},
   "source": [
    "With @keyframes slide I made a scroll backround:"
   ]
  },
  {
   "cell_type": "code",
   "execution_count": null,
   "metadata": {
    "vscode": {
     "languageId": "javascript"
    }
   },
   "outputs": [],
   "source": [
    "@keyframes slide {\n",
    "    0% {\n",
    "        background-position: 100% 0; \n",
    "    }\n",
    "    100% {\n",
    "        background-position: 0% 0; \n",
    "    }\n",
    "}  "
   ]
  },
  {
   "cell_type": "markdown",
   "metadata": {},
   "source": [
    "HTML code for the game container, background, and canvas:"
   ]
  },
  {
   "cell_type": "code",
   "execution_count": null,
   "metadata": {
    "vscode": {
     "languageId": "html"
    }
   },
   "outputs": [],
   "source": [
    "<div class=\"game-container\">\n",
    "    <div class=\"background\"></div>\n",
    "    <canvas id=\"canvas\"></canvas>\n",
    "</div>"
   ]
  },
  {
   "cell_type": "markdown",
   "metadata": {},
   "source": [
    "Class player represents a player and stores his position, speed and size:"
   ]
  },
  {
   "cell_type": "code",
   "execution_count": null,
   "metadata": {
    "vscode": {
     "languageId": "javascript"
    }
   },
   "outputs": [],
   "source": [
    "class Player {\n",
    "    constructor() {\n",
    "        // Initial position and velocity of the player\n",
    "        this.position = {\n",
    "            x: 325,\n",
    "            y: 200\n",
    "        };\n",
    "        this.velocity = {\n",
    "            x: 0,\n",
    "            y: 0\n",
    "        };\n",
    "        // Dimensions of the player\n",
    "        this.width = 30;\n",
    "        this.height = 30;\n",
    "    }\n",
    "    }"
   ]
  },
  {
   "cell_type": "markdown",
   "metadata": {},
   "source": [
    "(function animate) updates and draws the player on the canvas. It also controls the player's movement depending on the keys pressed."
   ]
  },
  {
   "cell_type": "code",
   "execution_count": null,
   "metadata": {
    "vscode": {
     "languageId": "javascript"
    }
   },
   "outputs": [],
   "source": [
    "function animate() {\n",
    "    requestAnimationFrame(animate);\n",
    "    c.clearRect(0, 0, canvas.width, canvas.height);\n",
    "    player.update();\n",
    "    \n",
    "}\n",
    "animate();"
   ]
  },
  {
   "cell_type": "markdown",
   "metadata": {},
   "source": [
    "The following code reads the keystrokes:"
   ]
  },
  {
   "cell_type": "code",
   "execution_count": null,
   "metadata": {
    "vscode": {
     "languageId": "javascript"
    }
   },
   "outputs": [],
   "source": [
    "// Event listener for keydown events\n",
    "addEventListener('keydown', ({ keyCode }) => {\n",
    "    switch (keyCode) {\n",
    "    }\n",
    "});\n",
    "\n",
    "// Event listener for keyup events\n",
    "addEventListener('keyup', ({ keyCode }) => {\n",
    "    switch (keyCode) {\n",
    "    }\n",
    "});"
   ]
  },
  {
   "cell_type": "markdown",
   "metadata": {},
   "source": [
    "### Robot Turned to the left side <br>\n",
    "Next, I needed to turn the robot horizontally to move to the left. <br>\n",
    "I set the horizontal scaling to -1 with  this.scaleX = -1;"
   ]
  },
  {
   "cell_type": "code",
   "execution_count": null,
   "metadata": {
    "vscode": {
     "languageId": "javascript"
    }
   },
   "outputs": [],
   "source": [
    "class Robot {\n",
    "    constructor() {\n",
    "\n",
    "        this.scaleX = -1; \n",
    "    }\n",
    "\n",
    "}"
   ]
  },
  {
   "cell_type": "markdown",
   "metadata": {},
   "source": [
    "In the (controls.addEventListener) is set robot.scaleX to -1, which reflects the robot horizontally and makes it look to the left."
   ]
  },
  {
   "cell_type": "code",
   "execution_count": null,
   "metadata": {
    "vscode": {
     "languageId": "javascript"
    }
   },
   "outputs": [],
   "source": [
    "case 'moveForward':\n",
    "    robot.frameY = 4;\n",
    "    robot.frameX = 0;\n",
    "    robot.maxFrame = 18;\n",
    "    robot.velocityX = 10;\n",
    "    robot.scaleX = -1; // Set horizontal scaling to -1 for leftward movement\n",
    "    break;\n",
    "case 'moveBackward':\n",
    "    robot.frameY = 4;\n",
    "    robot.frameX = 0;\n",
    "    robot.maxFrame = 18;\n",
    "    robot.velocityX = 0;\n",
    "    robot.scaleX = -1; // Set horizontal scaling to -1 for leftward movement\n",
    "    break;"
   ]
  },
  {
   "cell_type": "markdown",
   "metadata": {},
   "source": [
    "Next, use context.restore() to restore the last saved state of the context."
   ]
  },
  {
   "cell_type": "code",
   "execution_count": null,
   "metadata": {
    "vscode": {
     "languageId": "javascript"
    }
   },
   "outputs": [],
   "source": [
    "context.restore();"
   ]
  },
  {
   "cell_type": "markdown",
   "metadata": {},
   "source": [
    "### Other works:<br>\n",
    "Also for the game I created some gloomy background tunes and in Paint drew some levels for the game. Our plan was to make our game with levels like Geometry Dash, but we didn't have enough time for that."
   ]
  }
 ],
 "metadata": {
  "language_info": {
   "name": "python"
  }
 },
 "nbformat": 4,
 "nbformat_minor": 2
}

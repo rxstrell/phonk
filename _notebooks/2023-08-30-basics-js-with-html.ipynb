{
 "cells": [
  {
   "cell_type": "raw",
   "metadata": {},
   "source": [
    "---\n",
    "toc: false\n",
    "comments: true\n",
    "layout: post\n",
    "title: Javascript with HTML DOM\n",
    "courses: { CompSci: {week: 6} }\n",
    "hide: true\n",
    "permalink: /basics/dom\n",
    "---"
   ]
  },
  {
   "cell_type": "raw",
   "metadata": {},
   "source": [
    "{% include nav_basics.html %}\n"
   ]
  },
  {
   "cell_type": "markdown",
   "metadata": {},
   "source": [
    "# Hacks\n",
    "- Copy your HTML code from the HTML hacks. Write a Javascript snippet to switch the links of the two a tags when a button is pressed. Once they are switched, change the inner HTML of the top p tag to the word \"switched!\""
   ]
  },
  {
   "cell_type": "code",
   "execution_count": 24,
   "metadata": {
    "vscode": {
     "languageId": "html"
    }
   },
   "outputs": [
    {
     "data": {
      "text/html": [
       "<head>\n",
       "  <link rel=\"stylesheet\" href=\"{{site.baseurl}}/assets/css/basics.css\">\n",
       "</head>\n",
       "\n",
       "<style>\n",
       "  #paragraph {\n",
       "    text-align: center;\n",
       "    font-weight: 500;\n",
       "  }\n",
       "</style>\n",
       "  \n",
       "  <!--Div containing Paragraph & Button-->\n",
       "  <div id=\"paragraph\">\n",
       "      <p id=\"text\">This button needs to be paired with DOM</p>\n",
       "      <button class=\"button\" onclick=\"switchText()\">Click Me</button>\n",
       "  </div>\n",
       "\n",
       "<!--When the Button is Clicked, Modify the Paragraph with the ID of \"text\"-->\n",
       "<script id=\"text\">\n",
       "  function switchText() {\n",
       "    // Get Paragraph Element (<p id=\"text\">This button needs to be paired with DOM</p>)\n",
       "    let textDisplay = document.getElementById(\"text\");\n",
       "    \n",
       "    //Get Only the Text; aka remove the paragraph tags\n",
       "    let currentText = textDisplay.innerHTML;\n",
       "\n",
       "    //If the current text is \"Needs to be Paired\", then switch the text, else switch it back\n",
       "    if (currentText === \"This button needs to be paired with DOM\") {\n",
       "      textDisplay.innerHTML = \"Now it's paired with DOM\";\n",
       "    } else {\n",
       "      textDisplay.innerHTML = \"This button needs to be paired with DOM\";\n",
       "    }\n",
       "  }\n",
       "</script>\n"
      ],
      "text/plain": [
       "<IPython.core.display.HTML object>"
      ]
     },
     "metadata": {},
     "output_type": "display_data"
    }
   ],
   "source": [
    "%%html\n",
    "\n",
    "<!--Link to External CSS which styles Button-->\n",
    "<head>\n",
    "  <link rel=\"stylesheet\" href=\"{{site.baseurl}}/assets/css/basics.css\">\n",
    "</head>\n",
    "\n",
    "<!--Styling for the DIV-->\n",
    "<style>\n",
    "  #paragraph {\n",
    "    text-align: center;\n",
    "    font-weight: 500;\n",
    "  }\n",
    "</style>\n",
    "  \n",
    "  <!--Div containing Paragraph & Button-->\n",
    "  <div id=\"paragraph\">\n",
    "      <p id=\"text\">This button needs to be paired with DOM</p>\n",
    "      <button class=\"button\" onclick=\"switchText()\">Click Me</button>\n",
    "  </div>\n",
    "\n",
    "<!--When the Button is Clicked, Modify the Paragraph with the ID of \"text\"-->\n",
    "<script id=\"text\">\n",
    "  function switchText() {\n",
    "    // Get Paragraph Element (<p id=\"text\">This button needs to be paired with DOM</p>)\n",
    "    let textDisplay = document.getElementById(\"text\");\n",
    "    \n",
    "    //Get Only the Text; aka remove the paragraph tags\n",
    "    let currentText = textDisplay.innerHTML;\n",
    "\n",
    "    //If the current text is \"Needs to be Paired\", then switch the text, else switch it back\n",
    "    if (currentText === \"This button needs to be paired with DOM\") {\n",
    "      textDisplay.innerHTML = \"Now it's paired with DOM\";\n",
    "    } else {\n",
    "      textDisplay.innerHTML = \"This button needs to be paired with DOM\";\n",
    "    }\n",
    "  }\n",
    "</script>"
   ]
  }
 ],
 "metadata": {
  "kernelspec": {
   "display_name": "Python 3",
   "language": "python",
   "name": "python3"
  },
  "language_info": {
   "codemirror_mode": {
    "name": "ipython",
    "version": 3
   },
   "file_extension": ".py",
   "mimetype": "text/x-python",
   "name": "python",
   "nbconvert_exporter": "python",
   "pygments_lexer": "ipython3",
   "version": "3.10.12"
  },
  "orig_nbformat": 4
 },
 "nbformat": 4,
 "nbformat_minor": 2
}

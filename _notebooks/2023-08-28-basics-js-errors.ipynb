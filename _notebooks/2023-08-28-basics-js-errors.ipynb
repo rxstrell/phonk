{
 "cells": [
  {
   "cell_type": "raw",
   "metadata": {},
   "source": [
    "---\n",
    "toc: false\n",
    "layout: post\n",
    "title: Home\n",
    "courses: { CompSci: {week: 6} }\n",
    "permalink: /basics/js-debug\n",
    "comments: true\n",
    "---"
   ]
  },
  {
   "cell_type": "markdown",
   "metadata": {},
   "source": [
    "{% include nav_basics.html %}"
   ]
  },
  {
   "cell_type": "markdown",
   "metadata": {},
   "source": [
    "## Segment 1: Alphabet List\n",
    "\n",
    "Intended behavior: create a list of characters from the string contained in the variable `alphabet`\n",
    "\n",
    "### Code:"
   ]
  },
  {
   "cell_type": "code",
   "execution_count": null,
   "metadata": {
    "vscode": {
     "languageId": "javascript"
    }
   },
   "outputs": [],
   "source": [
    "%%js\n",
    "\n",
    "var alphabet = \"abcdefghijklmnopqrstuvwxyz\";\n",
    "var alphabetList = [];\n",
    "\n",
    "for (var i = 0; i < 26; i++) {\n",
    "\talphabetList.push(alphabet[i]);\n",
    "}\n",
    "\n",
    "console.log(alphabetList);"
   ]
  },
  {
   "cell_type": "markdown",
   "metadata": {},
   "source": [
    "### What I Changed\n",
    "\n",
    "The original code outputs a string of numbers instead of text. To combat this problem, I inserted the alphabet variable inside alphabetList.push and to make sure that each letter was iterated separetley, I added [i] after the alphabet variable.\n",
    "\n",
    "I also changed i < 10 to i < 26 to make sure all 26 letters of the alphabe were listed."
   ]
  },
  {
   "cell_type": "markdown",
   "metadata": {},
   "source": [
    "## Segment 2: Numbered Alphabet\n",
    "\n",
    "Intended behavior: print the number of a given alphabet letter within the alphabet. For example:\n",
    "```\n",
    "\"_\" is letter number _ in the alphabet\n",
    "```\n",
    "\n",
    "Where the underscores (_) are replaced with the letter and the position of that letter within the alphabet (e.g. a=1, b=2, etc.)\n",
    "\n",
    "### Code:"
   ]
  },
  {
   "cell_type": "code",
   "execution_count": null,
   "metadata": {
    "vscode": {
     "languageId": "javascript"
    }
   },
   "outputs": [],
   "source": [
    "%%js\n",
    "\n",
    "var alphabet = \"abcdefghijklmnopqrstuvwxyz\";\n",
    "var alphabetList = [];\n",
    "\n",
    "let letterNumber = 5\n",
    "\n",
    "for (var i = 0; i < 26; i++) {\n",
    "\tif (i === letterNumber) {\n",
    "\t\tconsole.log(alphabet[i-1] + \" is letter number \" + letterNumber +  \" in the alphabet\")\n",
    "\t}\n",
    "}"
   ]
  },
  {
   "cell_type": "markdown",
   "metadata": {},
   "source": [
    "### What I Changed\n",
    "\n",
    "Instead of using i < alphabetList, I switched it so say i < 26, which is simple way of making sure the code iterates through all 26 letter of the alphabets. The code itself was structurally sound, the thing that needd to be changed though was how the results were being logged in the console.\n",
    "\n",
    "The first part of console.log need to output the letter. To do this we use alphabet[i-1]. Basically this means once i equals the letterNumber it will then print the current letter it's on. The reason why we subtract by 1 and go back a number is because javascript starts counting at 0, while we start counting the alphabets by 1. Next we concatenate the rest of the sentence together so we can add both strings and variables."
   ]
  },
  {
   "cell_type": "markdown",
   "metadata": {},
   "source": [
    "## Segment 3: Odd Numbers\n",
    "\n",
    "Intended behavior: print a list of all the odd numbers below 10\n",
    "\n",
    "### Code:"
   ]
  },
  {
   "cell_type": "code",
   "execution_count": null,
   "metadata": {
    "vscode": {
     "languageId": "javascript"
    }
   },
   "outputs": [],
   "source": [
    "%%js\n",
    "\n",
    "let odds = [];\n",
    "let i = 1;\n",
    "\n",
    "while (i <= 10) {\n",
    "  odds.push(i);\n",
    "  i += 2;\n",
    "}\n",
    "\n",
    "console.log(odds);"
   ]
  },
  {
   "cell_type": "markdown",
   "metadata": {},
   "source": [
    "### What I Changed\n",
    "\n",
    "To change this code to print all odd numbers, all one must do is change i from a starting of 0 to a starting value of 1. Doing that makes sure that all odd numbers are listed below 10. Also I changed the variables from evens to odds, which doesn't affect the functionality of the code but it does make the variable more accurate to what it's doing."
   ]
  },
  {
   "cell_type": "markdown",
   "metadata": {},
   "source": [
    "## Segment 4: 1-100"
   ]
  },
  {
   "cell_type": "markdown",
   "metadata": {},
   "source": [
    "The intended outcome is printing a number between 1 and 100 once, if it is a multiple of 2 or 5 \n",
    "- What values are outputted incorrectly. Why?\n",
    "- Make changes to get the intended outcome."
   ]
  },
  {
   "cell_type": "code",
   "execution_count": null,
   "metadata": {
    "vscode": {
     "languageId": "javascript"
    }
   },
   "outputs": [],
   "source": [
    "%%js\n",
    "\n",
    "var numbers = []\n",
    "var newNumbers = []\n",
    "var i = 1\n",
    "\n",
    "while (i < 100) {\n",
    "    numbers.push(i)\n",
    "    i += 1\n",
    "}\n",
    "for (var i of numbers) {\n",
    "    if (numbers[i] % 5 === 0 || numbers[i] % 2 === 0)\n",
    "        newNumbers.push(numbers[i])\n",
    "}\n",
    "console.log(newNumbers) "
   ]
  },
  {
   "cell_type": "markdown",
   "metadata": {},
   "source": [
    "### What I Changed\n",
    "\n",
    "There are two problems that can be observed when running the original code. First 0 is listed the selected range is 1-100. The second problem is numbers in the tens place are repeated twice, when they should only be repeated once. Remarkably, the solution is as bland as the issue.\n",
    "\n",
    "To make sure 0 isn't listed, just make it so i starts as 1.\n",
    "\n",
    "To make sure numbers in the tens place aren't repeated, instead of running two seperate if statements, combine them into one. So now the computer will see this if statement: `if (numbers[i] % 5 === 0 || numbers[i] % 2 === 0)`. This means if this is true OR if this is true, run the following. When both values are true, it won't print the same number twice like before, but just print it once."
   ]
  },
  {
   "cell_type": "markdown",
   "metadata": {},
   "source": [
    "# Challenge\n",
    "\n",
    "This code segment is at a very early stage of implementation.\n",
    "- What are some ways to (user) error proof this code?\n",
    "- The code should be able to calculate the cost of the meal of the user\n",
    "\n",
    "Hint:\n",
    "- write a “single” test describing an expectation of the program of the program\n",
    "- test - input burger, expect output of burger price\n",
    "- run the test, which should fail because the program lacks that feature\n",
    "- write “just enough” code, the simplest possible, to make the test pass\n",
    "\n",
    "Then repeat this process until you get program working like you want it to work."
   ]
  },
  {
   "cell_type": "code",
   "execution_count": null,
   "metadata": {
    "vscode": {
     "languageId": "javascript"
    }
   },
   "outputs": [],
   "source": [
    "%%js\n",
    "\n",
    "//Define the Menu Object\n",
    "let menu =  {\n",
    "    burger: 3.99,\n",
    "    fries: 1.99,\n",
    "    drink: 0.99\n",
    "    }\n",
    "\n",
    "//Show Menu\n",
    "console.log(\"Menu\")\n",
    "for (let item in menu) {\n",
    "    console.log(item + \"  $\" + menu[item])\n",
    "}\n",
    "\n",
    "//Prompt User for Order\n",
    "let burger = prompt(\"Would you like a Burger [Yes/No]\");\n",
    "let fries = prompt(\"Would you like Fries [Yes/No]\");\n",
    "let drink = prompt(\"Would you like a Drink [Yes/No]\");\n",
    "\n",
    "//Total must start at $0\n",
    "let total = 0\n",
    "\n",
    "//Adds cost of items to Menu if yes is selected\n",
    "if (burger === \"yes\" || burger === \"Yes\") {\n",
    "    total += menu.burger\n",
    "}\n",
    "if (fries === \"yes\" || fries === \"Yes\") {\n",
    "    total += menu.fries\n",
    "}\n",
    "if (drink === \"yes\" || drink === \"Yes\") {\n",
    "    total += menu.drink\n",
    "}\n",
    "\n",
    "//code should add the price of the menu items selected by the user \n",
    "if (total === 0) {\n",
    "    console.log(\"You didn't buy anything!\")\n",
    "} else {\n",
    "    console.log(\"The Total Cost will be $\" + total.toFixed(2))\n",
    "}"
   ]
  },
  {
   "cell_type": "markdown",
   "metadata": {},
   "source": [
    "### Changes\n",
    "There are many changes to this code. Most of the code is new, while the rest have been modified. We'll start with the first difference that can be noted from the menu object. Originally, burger, fries, and drink variables were strings instead of actual variables, which doesn't work out when you're trying to store a value. To fix this, just remove the quotes so it's no longer a string, but an actual variable that can store values within itself.\n",
    "\n",
    "You'll see the Menu that appears is mostly the same with exception that .ToFixed(2) was removed as it served no purpose as the numbers wouldn't have gone past 2 decimal places either way.\n",
    "\n",
    "Next, we have the prompts. This part was nonexistent in the original code, and it prompts the user whether or not the users wants burger, fries, and/or drinks. The user simply has to type Yes or No has directed by the prompt.\n",
    "\n",
    "Below this, the variable \"total\" is defined to have a starting value of 0. This is the same as before and it just makes sure that the user is getting a fair cost based off what they buy.\n",
    "\n",
    "The next part of the code basically states if the user selected yes for the following menu items, add that to their cost. If they didn't select yes, the code will be ignored and the cost for that item will not be added.\n",
    "\n",
    "Finally, the last part of code outputs the cost of food in which the user bought. If they didn't buy anything, a message will appear on such. If they did buy something they will be shown their total cost which was done by concanetating a sentence with the total variable. Also note that toFixed(2) was added to the total variable as without the number would some reason output a very long decimal (this only happened if all 3 items were bought)."
   ]
  }
 ],
 "metadata": {
  "kernelspec": {
   "display_name": "Python 3.10.6 64-bit",
   "language": "python",
   "name": "python3"
  },
  "language_info": {
   "codemirror_mode": {
    "name": "ipython",
    "version": 3
   },
   "file_extension": ".py",
   "mimetype": "text/x-python",
   "name": "python",
   "nbconvert_exporter": "python",
   "pygments_lexer": "ipython3",
   "version": "3.11.5"
  },
  "orig_nbformat": 4,
  "vscode": {
   "interpreter": {
    "hash": "aee8b7b246df8f9039afb4144a1f6fd8d2ca17a180786b69acc140d282b71a49"
   }
  }
 },
 "nbformat": 4,
 "nbformat_minor": 2
}
